{
  "nbformat": 4,
  "nbformat_minor": 0,
  "metadata": {
    "colab": {
      "provenance": [],
      "include_colab_link": true
    },
    "kernelspec": {
      "name": "python3",
      "display_name": "Python 3"
    },
    "language_info": {
      "name": "python"
    }
  },
  "cells": [
    {
      "cell_type": "markdown",
      "metadata": {
        "id": "view-in-github",
        "colab_type": "text"
      },
      "source": [
        "<a href=\"https://colab.research.google.com/github/zBotta/reportingAgent/blob/dev/reportingAgent/PoC%20/PoC_Prompt%20and%20report%20gen.ipynb\" target=\"_parent\"><img src=\"https://colab.research.google.com/assets/colab-badge.svg\" alt=\"Open In Colab\"/></a>"
      ]
    },
    {
      "cell_type": "markdown",
      "source": [
        "# **Repo Setup**\n",
        "\n"
      ],
      "metadata": {
        "id": "2HYKJGMmNqTx"
      }
    },
    {
      "cell_type": "markdown",
      "source": [
        "If it is the first time importing the GitHub repo: follow the tutorial in this [link](https://github.com/KSDeshappriya/GoogleColab-GDrive-Git-GitHub_Repo)"
      ],
      "metadata": {
        "id": "ubgiAABGmadO"
      }
    },
    {
      "cell_type": "markdown",
      "source": [
        "## 1 - Imports and general setup"
      ],
      "metadata": {
        "id": "_fbUyM8NOApw"
      }
    },
    {
      "cell_type": "code",
      "source": [
        "# Mount Google Drive\n",
        "from google.colab import drive\n",
        "drive.mount('/content/drive')\n",
        "\n",
        "# Managing secrets\n",
        "from google.colab import userdata\n",
        "\n",
        "import gc # Garbage collector\n",
        "import os"
      ],
      "metadata": {
        "colab": {
          "base_uri": "https://localhost:8080/"
        },
        "id": "x4Q-6fd6N82d",
        "outputId": "09a0c491-1e1c-46cd-ad60-ef8c41928a96"
      },
      "execution_count": null,
      "outputs": [
        {
          "output_type": "stream",
          "name": "stdout",
          "text": [
            "Mounted at /content/drive\n"
          ]
        }
      ]
    },
    {
      "cell_type": "markdown",
      "source": [
        "## 2 - Config Git"
      ],
      "metadata": {
        "id": "-zIQKOHnOVjg"
      }
    },
    {
      "cell_type": "code",
      "source": [
        "!git config --global user.name \"SamdGuizani\"\n",
        "!git config --global user.email \"samd.guizani@gmail.com\""
      ],
      "metadata": {
        "id": "GradLm7NkxKN"
      },
      "execution_count": null,
      "outputs": []
    },
    {
      "cell_type": "markdown",
      "source": [
        "### Specify remote repo name / username"
      ],
      "metadata": {
        "id": "VLwkQEsDQK0n"
      }
    },
    {
      "cell_type": "code",
      "source": [
        "repo_url = 'https://github.com/zBotta/reportingAgent.git'\n",
        "repo_local_folder = 'reportingAgent_test4'"
      ],
      "metadata": {
        "id": "lGxT_IYqPeqA"
      },
      "execution_count": null,
      "outputs": []
    },
    {
      "cell_type": "markdown",
      "source": [
        "### Clone remote repo and change working directory\n",
        "Set `cloning_required` to `True` if creating local repo for first time.\n",
        "\n",
        "Set `cloning_required` to `False` if local repo already exist in Google Drive."
      ],
      "metadata": {
        "id": "k2aoe4ddP1Zj"
      }
    },
    {
      "cell_type": "code",
      "source": [
        "# Cloning remote repo\n",
        "cloning_required = False\n",
        "\n",
        "if cloning_required == True:\n",
        "    github_token = userdata.get('GitHub_Samd_ReportAgent_GoogleColab')\n",
        "    !git {repo_url} /content/drive/MyDrive/GitHub/{repo_local_folder}\n",
        "\n",
        "# Changing working directory to local repo\n",
        "%cd /content/drive/MyDrive/GitHub/{repo_local_folder}\n",
        "\n",
        "print(f\"Current working directory : {os.getcwd()}\\n\")\n",
        "\n",
        "# List content of working directory\n",
        "!ls -lia"
      ],
      "metadata": {
        "colab": {
          "base_uri": "https://localhost:8080/"
        },
        "id": "hDw3FfuCPqTh",
        "outputId": "0294ee41-d7b7-4d1c-e1ea-ef19143fb579"
      },
      "execution_count": null,
      "outputs": [
        {
          "output_type": "stream",
          "name": "stdout",
          "text": [
            "/content/drive/MyDrive/GitHub/reportingAgent_test4\n",
            "Current working directory : /content/drive/MyDrive/GitHub/reportingAgent_test4\n",
            "\n",
            "total 15\n",
            "47 drwx------ 2 root root 4096 Aug  6 10:57 app\n",
            "43 drwx------ 2 root root 4096 Aug  6 10:57 .git\n",
            "44 -rw------- 1 root root  120 Aug  6 10:57 .gitignore\n",
            "45 -rw------- 1 root root 1073 Aug  6 10:57 LICENSE\n",
            "48 -rw------- 1 root root 1151 Aug  6 10:57 projectSetup.py\n",
            "46 -rw------- 1 root root 1453 Aug  6 10:57 README.md\n",
            "49 -rw------- 1 root root 1474 Aug  6 10:57 requirements.txt\n"
          ]
        }
      ]
    },
    {
      "cell_type": "markdown",
      "source": [
        "## 3 - Git commands"
      ],
      "metadata": {
        "id": "5BabH8euW1K0"
      }
    },
    {
      "cell_type": "markdown",
      "source": [
        "Use `!git` to interact with Git or use terminal"
      ],
      "metadata": {
        "id": "sKh_LO7pcl81"
      }
    },
    {
      "cell_type": "code",
      "source": [
        "!git status"
      ],
      "metadata": {
        "colab": {
          "base_uri": "https://localhost:8080/"
        },
        "id": "jCq16I-yXSfN",
        "outputId": "dafda6f7-f620-48f7-f928-3d1a3961edd0"
      },
      "execution_count": 8,
      "outputs": [
        {
          "output_type": "stream",
          "name": "stdout",
          "text": [
            "On branch dev\n",
            "Your branch is up to date with 'origin/dev'.\n",
            "\n",
            "Changes to be committed:\n",
            "  (use \"git restore --staged <file>...\" to unstage)\n",
            "\t\u001b[32mmodified:   PoC/PoC_Prompt and report gen.ipynb\u001b[m\n",
            "\n"
          ]
        }
      ]
    },
    {
      "cell_type": "markdown",
      "source": [
        "### Useful Git commands"
      ],
      "metadata": {
        "id": "evVzHbkkdaZR"
      }
    },
    {
      "cell_type": "code",
      "source": [
        "# !git status                           # Display status (current branch and up-to-date status)\n",
        "\n",
        "# !git fetch                            # Downloads all history from remote tracking branches\n",
        "\n",
        "# !git checkout [branch name]           # Switches to specified branch and updates working dir\n",
        "\n",
        "# !git branch [branch name]             # Creates branch\n",
        "# !git branch -a                        # List all branches\n",
        "\n",
        "# !git pull                             # Updates current local working branch (combination of 'git fetch' and 'git merge')\n",
        "\n",
        "# !git add --all                        # Add all untracked and tracked changes\n",
        "# !git add [file]                       # Add a specific file\n",
        "\n",
        "# !git commit -m [\"commit message\"]     # Commit changes to the current branch\n",
        "\n",
        "# !git push origin [branch name]        # Pushes chnages to remote repo (branch already tracked)\n",
        "# !git push -u origin [branch name]     # Pushes chnages to remote repo (branch not tracked)"
      ],
      "metadata": {
        "id": "eFJ5yI4hXF6r"
      },
      "execution_count": null,
      "outputs": []
    },
    {
      "cell_type": "markdown",
      "source": [
        "# **Python Environment Setup**"
      ],
      "metadata": {
        "id": "wIhBUgyUfjJv"
      }
    },
    {
      "cell_type": "markdown",
      "source": [
        "## 1 - Install project dependencies\n",
        "\n"
      ],
      "metadata": {
        "id": "mvLEUb7VzVD0"
      }
    },
    {
      "cell_type": "code",
      "source": [
        "!pip install -r requirements.txt"
      ],
      "metadata": {
        "colab": {
          "base_uri": "https://localhost:8080/"
        },
        "id": "-lZSS9qFzSLk",
        "outputId": "25f924e5-7269-4cc3-ad89-57982acacb79"
      },
      "execution_count": null,
      "outputs": [
        {
          "output_type": "stream",
          "name": "stdout",
          "text": [
            "Requirement already satisfied: aiohappyeyeballs==2.6.1 in /usr/local/lib/python3.11/dist-packages (from -r requirements.txt (line 1)) (2.6.1)\n",
            "Requirement already satisfied: aiohttp==3.12.14 in /usr/local/lib/python3.11/dist-packages (from -r requirements.txt (line 2)) (3.12.14)\n",
            "Requirement already satisfied: aiosignal==1.4.0 in /usr/local/lib/python3.11/dist-packages (from -r requirements.txt (line 3)) (1.4.0)\n",
            "Requirement already satisfied: airportsdata==20250706 in /usr/local/lib/python3.11/dist-packages (from -r requirements.txt (line 4)) (20250706)\n",
            "Requirement already satisfied: annotated-types==0.7.0 in /usr/local/lib/python3.11/dist-packages (from -r requirements.txt (line 5)) (0.7.0)\n",
            "Requirement already satisfied: attrs==25.3.0 in /usr/local/lib/python3.11/dist-packages (from -r requirements.txt (line 6)) (25.3.0)\n",
            "Requirement already satisfied: bert-score==0.3.13 in /usr/local/lib/python3.11/dist-packages (from -r requirements.txt (line 7)) (0.3.13)\n",
            "Requirement already satisfied: certifi==2025.7.14 in /usr/local/lib/python3.11/dist-packages (from -r requirements.txt (line 8)) (2025.7.14)\n",
            "Requirement already satisfied: charset-normalizer==3.4.2 in /usr/local/lib/python3.11/dist-packages (from -r requirements.txt (line 9)) (3.4.2)\n",
            "Requirement already satisfied: cloudpickle==3.1.1 in /usr/local/lib/python3.11/dist-packages (from -r requirements.txt (line 10)) (3.1.1)\n",
            "Requirement already satisfied: colorama==0.4.6 in /usr/local/lib/python3.11/dist-packages (from -r requirements.txt (line 11)) (0.4.6)\n",
            "Requirement already satisfied: contourpy==1.3.2 in /usr/local/lib/python3.11/dist-packages (from -r requirements.txt (line 12)) (1.3.2)\n",
            "Requirement already satisfied: cycler==0.12.1 in /usr/local/lib/python3.11/dist-packages (from -r requirements.txt (line 13)) (0.12.1)\n",
            "Requirement already satisfied: datasets==4.0.0 in /usr/local/lib/python3.11/dist-packages (from -r requirements.txt (line 14)) (4.0.0)\n",
            "Requirement already satisfied: dill==0.3.8 in /usr/local/lib/python3.11/dist-packages (from -r requirements.txt (line 15)) (0.3.8)\n",
            "Requirement already satisfied: diskcache==5.6.3 in /usr/local/lib/python3.11/dist-packages (from -r requirements.txt (line 16)) (5.6.3)\n",
            "Requirement already satisfied: dotenv==0.9.9 in /usr/local/lib/python3.11/dist-packages (from -r requirements.txt (line 17)) (0.9.9)\n",
            "Requirement already satisfied: et_xmlfile==2.0.0 in /usr/local/lib/python3.11/dist-packages (from -r requirements.txt (line 18)) (2.0.0)\n",
            "Requirement already satisfied: evaluate==0.4.5 in /usr/local/lib/python3.11/dist-packages (from -r requirements.txt (line 19)) (0.4.5)\n",
            "Requirement already satisfied: filelock==3.18.0 in /usr/local/lib/python3.11/dist-packages (from -r requirements.txt (line 20)) (3.18.0)\n",
            "Requirement already satisfied: fonttools==4.59.0 in /usr/local/lib/python3.11/dist-packages (from -r requirements.txt (line 21)) (4.59.0)\n",
            "Requirement already satisfied: frozenlist==1.7.0 in /usr/local/lib/python3.11/dist-packages (from -r requirements.txt (line 22)) (1.7.0)\n",
            "Requirement already satisfied: fsspec==2025.3.0 in /usr/local/lib/python3.11/dist-packages (from -r requirements.txt (line 23)) (2025.3.0)\n",
            "Requirement already satisfied: genson==1.3.0 in /usr/local/lib/python3.11/dist-packages (from -r requirements.txt (line 24)) (1.3.0)\n",
            "Requirement already satisfied: huggingface-hub==0.33.4 in /usr/local/lib/python3.11/dist-packages (from -r requirements.txt (line 25)) (0.33.4)\n",
            "Requirement already satisfied: idna==3.10 in /usr/local/lib/python3.11/dist-packages (from -r requirements.txt (line 26)) (3.10)\n",
            "Requirement already satisfied: iniconfig==2.1.0 in /usr/local/lib/python3.11/dist-packages (from -r requirements.txt (line 27)) (2.1.0)\n",
            "Requirement already satisfied: interegular==0.3.3 in /usr/local/lib/python3.11/dist-packages (from -r requirements.txt (line 28)) (0.3.3)\n",
            "Requirement already satisfied: iso3166==2.1.1 in /usr/local/lib/python3.11/dist-packages (from -r requirements.txt (line 29)) (2.1.1)\n",
            "Requirement already satisfied: Jinja2==3.1.6 in /usr/local/lib/python3.11/dist-packages (from -r requirements.txt (line 30)) (3.1.6)\n",
            "Requirement already satisfied: joblib==1.5.1 in /usr/local/lib/python3.11/dist-packages (from -r requirements.txt (line 31)) (1.5.1)\n",
            "Requirement already satisfied: jsonpath-ng==1.7.0 in /usr/local/lib/python3.11/dist-packages (from -r requirements.txt (line 32)) (1.7.0)\n",
            "Requirement already satisfied: jsonschema==4.25.0 in /usr/local/lib/python3.11/dist-packages (from -r requirements.txt (line 33)) (4.25.0)\n",
            "Requirement already satisfied: jsonschema-specifications==2025.4.1 in /usr/local/lib/python3.11/dist-packages (from -r requirements.txt (line 34)) (2025.4.1)\n",
            "Requirement already satisfied: kiwisolver==1.4.8 in /usr/local/lib/python3.11/dist-packages (from -r requirements.txt (line 35)) (1.4.8)\n",
            "Requirement already satisfied: lark==1.2.2 in /usr/local/lib/python3.11/dist-packages (from -r requirements.txt (line 36)) (1.2.2)\n",
            "Requirement already satisfied: MarkupSafe==3.0.2 in /usr/local/lib/python3.11/dist-packages (from -r requirements.txt (line 37)) (3.0.2)\n",
            "Requirement already satisfied: matplotlib==3.10.3 in /usr/local/lib/python3.11/dist-packages (from -r requirements.txt (line 38)) (3.10.3)\n",
            "Requirement already satisfied: mpmath==1.3.0 in /usr/local/lib/python3.11/dist-packages (from -r requirements.txt (line 39)) (1.3.0)\n",
            "Requirement already satisfied: multidict==6.6.3 in /usr/local/lib/python3.11/dist-packages (from -r requirements.txt (line 40)) (6.6.3)\n",
            "Requirement already satisfied: multiprocess==0.70.16 in /usr/local/lib/python3.11/dist-packages (from -r requirements.txt (line 41)) (0.70.16)\n",
            "Requirement already satisfied: nest-asyncio==1.6.0 in /usr/local/lib/python3.11/dist-packages (from -r requirements.txt (line 42)) (1.6.0)\n",
            "Requirement already satisfied: networkx==3.5 in /usr/local/lib/python3.11/dist-packages (from -r requirements.txt (line 43)) (3.5)\n",
            "Requirement already satisfied: numpy==2.3.1 in /usr/local/lib/python3.11/dist-packages (from -r requirements.txt (line 44)) (2.3.1)\n",
            "Requirement already satisfied: openpyxl==3.1.5 in /usr/local/lib/python3.11/dist-packages (from -r requirements.txt (line 45)) (3.1.5)\n",
            "Requirement already satisfied: outlines==1.1.1 in /usr/local/lib/python3.11/dist-packages (from -r requirements.txt (line 46)) (1.1.1)\n",
            "Requirement already satisfied: outlines_core==0.1.26 in /usr/local/lib/python3.11/dist-packages (from -r requirements.txt (line 47)) (0.1.26)\n",
            "Requirement already satisfied: packaging==25.0 in /usr/local/lib/python3.11/dist-packages (from -r requirements.txt (line 48)) (25.0)\n",
            "Requirement already satisfied: pandas==2.3.1 in /usr/local/lib/python3.11/dist-packages (from -r requirements.txt (line 49)) (2.3.1)\n",
            "Requirement already satisfied: pillow==11.3.0 in /usr/local/lib/python3.11/dist-packages (from -r requirements.txt (line 50)) (11.3.0)\n",
            "Requirement already satisfied: pluggy==1.6.0 in /usr/local/lib/python3.11/dist-packages (from -r requirements.txt (line 51)) (1.6.0)\n",
            "Requirement already satisfied: ply==3.11 in /usr/local/lib/python3.11/dist-packages (from -r requirements.txt (line 52)) (3.11)\n",
            "Requirement already satisfied: propcache==0.3.2 in /usr/local/lib/python3.11/dist-packages (from -r requirements.txt (line 53)) (0.3.2)\n",
            "Requirement already satisfied: pyarrow==21.0.0 in /usr/local/lib/python3.11/dist-packages (from -r requirements.txt (line 54)) (21.0.0)\n",
            "Requirement already satisfied: pydantic==2.11.7 in /usr/local/lib/python3.11/dist-packages (from -r requirements.txt (line 55)) (2.11.7)\n",
            "Requirement already satisfied: pydantic_core==2.33.2 in /usr/local/lib/python3.11/dist-packages (from -r requirements.txt (line 56)) (2.33.2)\n",
            "Requirement already satisfied: Pygments==2.19.2 in /usr/local/lib/python3.11/dist-packages (from -r requirements.txt (line 57)) (2.19.2)\n",
            "Requirement already satisfied: pyparsing==3.2.3 in /usr/local/lib/python3.11/dist-packages (from -r requirements.txt (line 58)) (3.2.3)\n",
            "Requirement already satisfied: pytest==8.4.1 in /usr/local/lib/python3.11/dist-packages (from -r requirements.txt (line 59)) (8.4.1)\n",
            "Requirement already satisfied: python-dateutil==2.9.0.post0 in /usr/local/lib/python3.11/dist-packages (from -r requirements.txt (line 60)) (2.9.0.post0)\n",
            "Requirement already satisfied: python-dotenv==1.1.1 in /usr/local/lib/python3.11/dist-packages (from -r requirements.txt (line 61)) (1.1.1)\n",
            "Requirement already satisfied: pytz==2025.2 in /usr/local/lib/python3.11/dist-packages (from -r requirements.txt (line 62)) (2025.2)\n",
            "Requirement already satisfied: PyYAML==6.0.2 in /usr/local/lib/python3.11/dist-packages (from -r requirements.txt (line 63)) (6.0.2)\n",
            "Requirement already satisfied: referencing==0.36.2 in /usr/local/lib/python3.11/dist-packages (from -r requirements.txt (line 64)) (0.36.2)\n",
            "Requirement already satisfied: regex==2024.11.6 in /usr/local/lib/python3.11/dist-packages (from -r requirements.txt (line 65)) (2024.11.6)\n",
            "Requirement already satisfied: requests==2.32.4 in /usr/local/lib/python3.11/dist-packages (from -r requirements.txt (line 66)) (2.32.4)\n",
            "Requirement already satisfied: rpds-py==0.26.0 in /usr/local/lib/python3.11/dist-packages (from -r requirements.txt (line 67)) (0.26.0)\n",
            "Requirement already satisfied: safetensors==0.5.3 in /usr/local/lib/python3.11/dist-packages (from -r requirements.txt (line 68)) (0.5.3)\n",
            "Requirement already satisfied: scikit-learn==1.7.1 in /usr/local/lib/python3.11/dist-packages (from -r requirements.txt (line 69)) (1.7.1)\n",
            "Requirement already satisfied: scipy==1.16.0 in /usr/local/lib/python3.11/dist-packages (from -r requirements.txt (line 70)) (1.16.0)\n",
            "Requirement already satisfied: sentence-transformers==5.0.0 in /usr/local/lib/python3.11/dist-packages (from -r requirements.txt (line 71)) (5.0.0)\n",
            "Requirement already satisfied: six==1.17.0 in /usr/local/lib/python3.11/dist-packages (from -r requirements.txt (line 72)) (1.17.0)\n",
            "Requirement already satisfied: sympy==1.14.0 in /usr/local/lib/python3.11/dist-packages (from -r requirements.txt (line 73)) (1.14.0)\n",
            "Requirement already satisfied: threadpoolctl==3.6.0 in /usr/local/lib/python3.11/dist-packages (from -r requirements.txt (line 74)) (3.6.0)\n",
            "Requirement already satisfied: tokenizers==0.21.2 in /usr/local/lib/python3.11/dist-packages (from -r requirements.txt (line 75)) (0.21.2)\n",
            "Requirement already satisfied: torch==2.7.1 in /usr/local/lib/python3.11/dist-packages (from -r requirements.txt (line 76)) (2.7.1)\n",
            "Requirement already satisfied: tqdm==4.67.1 in /usr/local/lib/python3.11/dist-packages (from -r requirements.txt (line 77)) (4.67.1)\n",
            "Requirement already satisfied: transformers==4.53.3 in /usr/local/lib/python3.11/dist-packages (from -r requirements.txt (line 78)) (4.53.3)\n",
            "Requirement already satisfied: typing-inspection==0.4.1 in /usr/local/lib/python3.11/dist-packages (from -r requirements.txt (line 79)) (0.4.1)\n",
            "Requirement already satisfied: typing_extensions==4.14.1 in /usr/local/lib/python3.11/dist-packages (from -r requirements.txt (line 80)) (4.14.1)\n",
            "Requirement already satisfied: tzdata==2025.2 in /usr/local/lib/python3.11/dist-packages (from -r requirements.txt (line 81)) (2025.2)\n",
            "Requirement already satisfied: urllib3==2.5.0 in /usr/local/lib/python3.11/dist-packages (from -r requirements.txt (line 82)) (2.5.0)\n",
            "Requirement already satisfied: xxhash==3.5.0 in /usr/local/lib/python3.11/dist-packages (from -r requirements.txt (line 83)) (3.5.0)\n",
            "Requirement already satisfied: yarl==1.20.1 in /usr/local/lib/python3.11/dist-packages (from -r requirements.txt (line 84)) (1.20.1)\n",
            "Requirement already satisfied: hf-xet<2.0.0,>=1.1.2 in /usr/local/lib/python3.11/dist-packages (from huggingface-hub==0.33.4->-r requirements.txt (line 25)) (1.1.5)\n",
            "Requirement already satisfied: nvidia-cuda-nvrtc-cu12==12.6.77 in /usr/local/lib/python3.11/dist-packages (from torch==2.7.1->-r requirements.txt (line 76)) (12.6.77)\n",
            "Requirement already satisfied: nvidia-cuda-runtime-cu12==12.6.77 in /usr/local/lib/python3.11/dist-packages (from torch==2.7.1->-r requirements.txt (line 76)) (12.6.77)\n",
            "Requirement already satisfied: nvidia-cuda-cupti-cu12==12.6.80 in /usr/local/lib/python3.11/dist-packages (from torch==2.7.1->-r requirements.txt (line 76)) (12.6.80)\n",
            "Requirement already satisfied: nvidia-cudnn-cu12==9.5.1.17 in /usr/local/lib/python3.11/dist-packages (from torch==2.7.1->-r requirements.txt (line 76)) (9.5.1.17)\n",
            "Requirement already satisfied: nvidia-cublas-cu12==12.6.4.1 in /usr/local/lib/python3.11/dist-packages (from torch==2.7.1->-r requirements.txt (line 76)) (12.6.4.1)\n",
            "Requirement already satisfied: nvidia-cufft-cu12==11.3.0.4 in /usr/local/lib/python3.11/dist-packages (from torch==2.7.1->-r requirements.txt (line 76)) (11.3.0.4)\n",
            "Requirement already satisfied: nvidia-curand-cu12==10.3.7.77 in /usr/local/lib/python3.11/dist-packages (from torch==2.7.1->-r requirements.txt (line 76)) (10.3.7.77)\n",
            "Requirement already satisfied: nvidia-cusolver-cu12==11.7.1.2 in /usr/local/lib/python3.11/dist-packages (from torch==2.7.1->-r requirements.txt (line 76)) (11.7.1.2)\n",
            "Requirement already satisfied: nvidia-cusparse-cu12==12.5.4.2 in /usr/local/lib/python3.11/dist-packages (from torch==2.7.1->-r requirements.txt (line 76)) (12.5.4.2)\n",
            "Requirement already satisfied: nvidia-cusparselt-cu12==0.6.3 in /usr/local/lib/python3.11/dist-packages (from torch==2.7.1->-r requirements.txt (line 76)) (0.6.3)\n",
            "Requirement already satisfied: nvidia-nccl-cu12==2.26.2 in /usr/local/lib/python3.11/dist-packages (from torch==2.7.1->-r requirements.txt (line 76)) (2.26.2)\n",
            "Requirement already satisfied: nvidia-nvtx-cu12==12.6.77 in /usr/local/lib/python3.11/dist-packages (from torch==2.7.1->-r requirements.txt (line 76)) (12.6.77)\n",
            "Requirement already satisfied: nvidia-nvjitlink-cu12==12.6.85 in /usr/local/lib/python3.11/dist-packages (from torch==2.7.1->-r requirements.txt (line 76)) (12.6.85)\n",
            "Requirement already satisfied: nvidia-cufile-cu12==1.11.1.6 in /usr/local/lib/python3.11/dist-packages (from torch==2.7.1->-r requirements.txt (line 76)) (1.11.1.6)\n",
            "Requirement already satisfied: triton==3.3.1 in /usr/local/lib/python3.11/dist-packages (from torch==2.7.1->-r requirements.txt (line 76)) (3.3.1)\n",
            "Requirement already satisfied: setuptools>=40.8.0 in /usr/local/lib/python3.11/dist-packages (from triton==3.3.1->torch==2.7.1->-r requirements.txt (line 76)) (75.2.0)\n"
          ]
        }
      ]
    },
    {
      "cell_type": "code",
      "source": [
        "!pip install --upgrade torch torchvision"
      ],
      "metadata": {
        "colab": {
          "base_uri": "https://localhost:8080/"
        },
        "id": "7jbcWB1PGsoj",
        "outputId": "85294e04-bbce-4fa5-f306-e7c67a1582a0"
      },
      "execution_count": null,
      "outputs": [
        {
          "output_type": "stream",
          "name": "stdout",
          "text": [
            "Requirement already satisfied: torch in /usr/local/lib/python3.11/dist-packages (2.7.1)\n",
            "Requirement already satisfied: torchvision in /usr/local/lib/python3.11/dist-packages (0.22.1)\n",
            "Requirement already satisfied: filelock in /usr/local/lib/python3.11/dist-packages (from torch) (3.18.0)\n",
            "Requirement already satisfied: typing-extensions>=4.10.0 in /usr/local/lib/python3.11/dist-packages (from torch) (4.14.1)\n",
            "Requirement already satisfied: sympy>=1.13.3 in /usr/local/lib/python3.11/dist-packages (from torch) (1.14.0)\n",
            "Requirement already satisfied: networkx in /usr/local/lib/python3.11/dist-packages (from torch) (3.5)\n",
            "Requirement already satisfied: jinja2 in /usr/local/lib/python3.11/dist-packages (from torch) (3.1.6)\n",
            "Requirement already satisfied: fsspec in /usr/local/lib/python3.11/dist-packages (from torch) (2025.3.0)\n",
            "Requirement already satisfied: nvidia-cuda-nvrtc-cu12==12.6.77 in /usr/local/lib/python3.11/dist-packages (from torch) (12.6.77)\n",
            "Requirement already satisfied: nvidia-cuda-runtime-cu12==12.6.77 in /usr/local/lib/python3.11/dist-packages (from torch) (12.6.77)\n",
            "Requirement already satisfied: nvidia-cuda-cupti-cu12==12.6.80 in /usr/local/lib/python3.11/dist-packages (from torch) (12.6.80)\n",
            "Requirement already satisfied: nvidia-cudnn-cu12==9.5.1.17 in /usr/local/lib/python3.11/dist-packages (from torch) (9.5.1.17)\n",
            "Requirement already satisfied: nvidia-cublas-cu12==12.6.4.1 in /usr/local/lib/python3.11/dist-packages (from torch) (12.6.4.1)\n",
            "Requirement already satisfied: nvidia-cufft-cu12==11.3.0.4 in /usr/local/lib/python3.11/dist-packages (from torch) (11.3.0.4)\n",
            "Requirement already satisfied: nvidia-curand-cu12==10.3.7.77 in /usr/local/lib/python3.11/dist-packages (from torch) (10.3.7.77)\n",
            "Requirement already satisfied: nvidia-cusolver-cu12==11.7.1.2 in /usr/local/lib/python3.11/dist-packages (from torch) (11.7.1.2)\n",
            "Requirement already satisfied: nvidia-cusparse-cu12==12.5.4.2 in /usr/local/lib/python3.11/dist-packages (from torch) (12.5.4.2)\n",
            "Requirement already satisfied: nvidia-cusparselt-cu12==0.6.3 in /usr/local/lib/python3.11/dist-packages (from torch) (0.6.3)\n",
            "Requirement already satisfied: nvidia-nccl-cu12==2.26.2 in /usr/local/lib/python3.11/dist-packages (from torch) (2.26.2)\n",
            "Requirement already satisfied: nvidia-nvtx-cu12==12.6.77 in /usr/local/lib/python3.11/dist-packages (from torch) (12.6.77)\n",
            "Requirement already satisfied: nvidia-nvjitlink-cu12==12.6.85 in /usr/local/lib/python3.11/dist-packages (from torch) (12.6.85)\n",
            "Requirement already satisfied: nvidia-cufile-cu12==1.11.1.6 in /usr/local/lib/python3.11/dist-packages (from torch) (1.11.1.6)\n",
            "Requirement already satisfied: triton==3.3.1 in /usr/local/lib/python3.11/dist-packages (from torch) (3.3.1)\n",
            "Requirement already satisfied: setuptools>=40.8.0 in /usr/local/lib/python3.11/dist-packages (from triton==3.3.1->torch) (75.2.0)\n",
            "Requirement already satisfied: numpy in /usr/local/lib/python3.11/dist-packages (from torchvision) (2.3.1)\n",
            "Requirement already satisfied: pillow!=8.3.*,>=5.3.0 in /usr/local/lib/python3.11/dist-packages (from torchvision) (11.3.0)\n",
            "Requirement already satisfied: mpmath<1.4,>=1.1.0 in /usr/local/lib/python3.11/dist-packages (from sympy>=1.13.3->torch) (1.3.0)\n",
            "Requirement already satisfied: MarkupSafe>=2.0 in /usr/local/lib/python3.11/dist-packages (from jinja2->torch) (3.0.2)\n"
          ]
        }
      ]
    },
    {
      "cell_type": "markdown",
      "source": [
        "# **PoC Work**"
      ],
      "metadata": {
        "id": "vNMxV3XajQd_"
      }
    },
    {
      "cell_type": "markdown",
      "source": [
        "## 1 - Project specific imports"
      ],
      "metadata": {
        "id": "spiLtjaTkZVz"
      }
    },
    {
      "cell_type": "code",
      "source": [
        "import numpy as np\n",
        "import pandas as pd\n",
        "import torch"
      ],
      "metadata": {
        "id": "tpna7ws_kY10"
      },
      "execution_count": 9,
      "outputs": []
    },
    {
      "cell_type": "markdown",
      "source": [
        "To import locally available library : [Importing python library from Drive](https://colab.research.google.com/drive/12qC2abKAIAlUM_jNAokGlooKY-idbSxi#scrollTo=prUMpfLaB-D7)"
      ],
      "metadata": {
        "id": "nXz98pxKo8oH"
      }
    },
    {
      "cell_type": "code",
      "source": [
        "# import sys\n",
        "# import os\n",
        "\n",
        "# # Get the current working directory (which should be the project root)\n",
        "# project_root = os.getcwd()\n",
        "\n",
        "# # Add the project root to the Python path\n",
        "# if project_root not in sys.path:\n",
        "#     sys.path.append('/content/drive/MyDrive/GitHub/reportingAgent/app/mods/')\n",
        "\n",
        "# Now you can import the module\n",
        "from app.mods.promptGenerator import PromptGenerator"
      ],
      "metadata": {
        "id": "zXHXoNZVkysv"
      },
      "execution_count": 13,
      "outputs": []
    },
    {
      "cell_type": "code",
      "source": [
        "pg = PromptGenerator()"
      ],
      "metadata": {
        "colab": {
          "base_uri": "https://localhost:8080/"
        },
        "id": "UvSUAumTtJKQ",
        "outputId": "7ab79703-b607-450d-8379-c29a1d259f45"
      },
      "execution_count": 14,
      "outputs": [
        {
          "name": "stdout",
          "output_type": "stream",
          "text": [
            "\n",
            "What has happend? \n",
            "[Describe event in few words] \n",
            "a\n",
            "\n",
            "When did the event happen? \n",
            "[Date & time of event occurrence and/or discovery] \n",
            "b\n",
            "\n",
            "Where did the event happen? \n",
            "[Describe event location] \n",
            "c\n",
            "\n",
            "Who was involved? \n",
            "[Enumerate all involved persons and how they took part in event] \n",
            "d\n",
            "\n",
            "How did the event happen?] \n",
            "e\n",
            "\n",
            "Why did the event happen? \n",
            "[Describe root cause if known and/or ongoing investigations] \n",
            "f\n",
            "\n",
            "Which contingency actions have been taken? \n",
            "[Enumerate all actions taken subsequently to event] \n",
            "g\n"
          ]
        }
      ]
    },
    {
      "cell_type": "markdown",
      "source": [
        "## 2 - Global Variables"
      ],
      "metadata": {
        "id": "6JKJsyI7k5ea"
      }
    },
    {
      "cell_type": "code",
      "source": [
        "# set device to cuda if available\n",
        "device = torch.device('cuda' if torch.cuda.is_available() else 'cpu')\n",
        "torch_dtype = torch.float32 if torch.cuda.is_available() else torch.float32\n",
        "\n",
        "device, torch_dtype"
      ],
      "metadata": {
        "colab": {
          "base_uri": "https://localhost:8080/"
        },
        "id": "onshONq7k9ev",
        "outputId": "30a23b47-0b0e-4456-9890-d6a81f81f3bc"
      },
      "execution_count": null,
      "outputs": [
        {
          "output_type": "execute_result",
          "data": {
            "text/plain": [
              "(device(type='cpu'), torch.float32)"
            ]
          },
          "metadata": {},
          "execution_count": 25
        }
      ]
    },
    {
      "cell_type": "markdown",
      "source": [
        "## Import a python script from project"
      ],
      "metadata": {
        "id": "-2wXabjgzszt"
      }
    },
    {
      "cell_type": "code",
      "source": [
        "%cd /content/drive/MyDrive/GitHub/{repo}"
      ],
      "metadata": {
        "colab": {
          "base_uri": "https://localhost:8080/"
        },
        "id": "a8WjxROAzwUT",
        "outputId": "59cafec1-fbad-4fd4-d0b0-3f82255b99e2"
      },
      "execution_count": null,
      "outputs": [
        {
          "output_type": "stream",
          "name": "stdout",
          "text": [
            "/content/drive/MyDrive/GitHub/reportingAgent\n"
          ]
        }
      ]
    },
    {
      "cell_type": "code",
      "source": [
        "!git pull"
      ],
      "metadata": {
        "colab": {
          "base_uri": "https://localhost:8080/"
        },
        "id": "-oZlOWBODm4M",
        "outputId": "49f4cdc2-c806-42dc-cb91-5c3f4cf22434"
      },
      "execution_count": null,
      "outputs": [
        {
          "output_type": "stream",
          "name": "stdout",
          "text": [
            "Already up to date.\n"
          ]
        }
      ]
    },
    {
      "cell_type": "code",
      "source": [
        "!ls -lia"
      ],
      "metadata": {
        "colab": {
          "base_uri": "https://localhost:8080/"
        },
        "id": "WHIQo6XuFZqV",
        "outputId": "a57a9d54-669e-439c-e5b9-08c9d5b78fb7"
      },
      "execution_count": null,
      "outputs": [
        {
          "output_type": "stream",
          "name": "stdout",
          "text": [
            "total 19\n",
            "40 drwx------ 6 root root 4096 Aug  5 09:31 app\n",
            "36 drwx------ 7 root root 4096 Aug  5 10:46 .git\n",
            "37 -rw------- 1 root root  120 Aug  5 09:31 .gitignore\n",
            "38 -rw------- 1 root root 1073 Aug  5 09:31 LICENSE\n",
            "41 -rw------- 1 root root 1151 Aug  5 09:31 projectSetup.py\n",
            "43 drwx------ 2 root root 4096 Aug  5 09:52 __pycache__\n",
            "39 -rw------- 1 root root 1453 Aug  5 09:31 README.md\n",
            "42 -rw------- 1 root root 1474 Aug  5 09:31 requirements.txt\n"
          ]
        }
      ]
    },
    {
      "cell_type": "code",
      "source": [
        "!python projectSetup.py"
      ],
      "metadata": {
        "colab": {
          "base_uri": "https://localhost:8080/"
        },
        "id": "i79nllcxdMwy",
        "outputId": "d2b16575-139a-4995-8655-e260d1d29032"
      },
      "execution_count": null,
      "outputs": [
        {
          "output_type": "stream",
          "name": "stdout",
          "text": [
            "\n",
            "Loading device and environment variables:\n",
            "               device=cuda, torch_dtype=torch.float32\n",
            "\n",
            " Loading environment variables from: /content/drive/MyDrive/GitHub/reportingAgent/.env\n"
          ]
        }
      ]
    },
    {
      "cell_type": "code",
      "source": [
        "!python app/reportingAgent.py"
      ],
      "metadata": {
        "colab": {
          "base_uri": "https://localhost:8080/"
        },
        "id": "P57w5lE7nDyX",
        "outputId": "3aa5bcf4-7351-45cb-f4b2-79cdf768f28c"
      },
      "execution_count": null,
      "outputs": [
        {
          "output_type": "stream",
          "name": "stdout",
          "text": [
            "\n",
            "Added ENV = /content/drive/MyDrive/GitHub/reportingAgent\n"
          ]
        }
      ]
    }
  ]
}